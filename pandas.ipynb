{
 "cells": [
  {
   "cell_type": "code",
   "execution_count": 4,
   "metadata": {},
   "outputs": [
    {
     "name": "stdout",
     "output_type": "stream",
     "text": [
      "    cars passings\n",
      "0    BMW        3\n",
      "1  volvo        7\n",
      "2   Ford        2\n"
     ]
    }
   ],
   "source": [
    "import pandas as pd\n",
    "a={'cars':[\"BMW\",\"volvo\",\"Ford\"],    'passings':[\"3\",\"7\",\"2\"]}\n",
    "b=pd.DataFrame(a)\n",
    "print(b)"
   ]
  },
  {
   "cell_type": "code",
   "execution_count": 2,
   "metadata": {},
   "outputs": [
    {
     "name": "stdout",
     "output_type": "stream",
     "text": [
      "   Duration         Date  Pulse  Maxpulse  Calories\n",
      "0        60  2020/12/01'    110     130.0       NaN\n",
      "1        60  2020/12/02'    117     145.0     479.0\n",
      "2        60  2020/12/03'    103     135.0     340.0\n",
      "3       450  2020/12/04'    109     175.0     201.0\n",
      "4        45  2020/12/05'    117     148.0      62.0\n"
     ]
    }
   ],
   "source": [
    "import pandas as pd\n",
    "a=pd.read_csv('vt.csv')\n",
    "print(a.head(5).to_string())"
   ]
  },
  {
   "cell_type": "code",
   "execution_count": 3,
   "metadata": {},
   "outputs": [
    {
     "name": "stdout",
     "output_type": "stream",
     "text": [
      "    Duration         Date  Pulse  Maxpulse  Calories\n",
      "8         30     20201209    109     133.0       NaN\n",
      "9         60  2020/12/10'     98     124.0     269.0\n",
      "10        60  2020/12/11'    103     147.0     329.0\n",
      "11        60  2020/12/12'    100     120.0     250.0\n",
      "12        60  2020/12/12'    100     120.0     250.0\n"
     ]
    }
   ],
   "source": [
    "import pandas as pd\n",
    "a=pd.read_csv('vt.csv')\n",
    "print(a.tail(5).to_string())"
   ]
  },
  {
   "cell_type": "code",
   "execution_count": 1,
   "metadata": {},
   "outputs": [
    {
     "name": "stdout",
     "output_type": "stream",
     "text": [
      "    Duration       Date  Pulse  Maxpulse  Calories\n",
      "0         60 2020-12-01    110     130.0     130.0\n",
      "1         60 2020-12-02    117     145.0     479.0\n",
      "2         60 2020-12-03    103     135.0     340.0\n",
      "3        450 2020-12-04    109     175.0     201.0\n",
      "4         45 2020-12-05    117     148.0      62.0\n",
      "5         60 2020-12-06    102     127.5      77.0\n",
      "6         60 2020-12-07    110     136.0     216.0\n",
      "7         45 2020-12-08    104     134.0     253.0\n",
      "8         30 2020-12-09    109     133.0     130.0\n",
      "9         60 2020-12-10     98     124.0     269.0\n",
      "10        60 2020-12-11    103     147.0     329.0\n",
      "11        60 2020-12-12    100     120.0     250.0\n",
      "12        60 2020-12-12    100     120.0     250.0\n"
     ]
    }
   ],
   "source": [
    "import pandas as pd\n",
    "a=pd.read_csv('vt.csv')\n",
    "a['Calories'].fillna(130,inplace=True)\n",
    "a['Date']=pd.to_datetime(a['Date'])\n",
    "print(a.to_string())"
   ]
  },
  {
   "cell_type": "code",
   "execution_count": 2,
   "metadata": {},
   "outputs": [
    {
     "name": "stdout",
     "output_type": "stream",
     "text": [
      "    Duration       Date  Pulse  Maxpulse  Calories\n",
      "0         60 2020-12-01    110     130.0     130.0\n",
      "1         60 2020-12-02    117     145.0     479.0\n",
      "2         60 2020-12-03    103     135.0     340.0\n",
      "3         45 2020-12-04    109     175.0     201.0\n",
      "4         45 2020-12-05    117     148.0      62.0\n",
      "5         60 2020-12-06    102     127.5      77.0\n",
      "6         60 2020-12-07    110     136.0     216.0\n",
      "7         45 2020-12-08    104     134.0     253.0\n",
      "8         30 2020-12-09    109     133.0     130.0\n",
      "9         60 2020-12-10     98     124.0     269.0\n",
      "10        60 2020-12-11    103     147.0     329.0\n",
      "11        60 2020-12-12    100     120.0     250.0\n",
      "12        60 2020-12-12    100     120.0     250.0\n"
     ]
    }
   ],
   "source": [
    "b=a.loc[3,'Duration']=45\n",
    "print(a)"
   ]
  },
  {
   "cell_type": "code",
   "execution_count": 3,
   "metadata": {},
   "outputs": [
    {
     "name": "stdout",
     "output_type": "stream",
     "text": [
      "    Duration       Date  Pulse  Maxpulse  Calories\n",
      "0         60 2020-12-01    110     130.0     130.0\n",
      "1         60 2020-12-02    117     145.0     479.0\n",
      "2         60 2020-12-03    103     135.0     340.0\n",
      "3         45 2020-12-04    109     175.0     201.0\n",
      "4         45 2020-12-05    117     148.0      62.0\n",
      "5         60 2020-12-06    102     127.5      77.0\n",
      "6         60 2020-12-07    110     136.0     216.0\n",
      "7         45 2020-12-08    104     134.0     253.0\n",
      "8         30 2020-12-09    109     133.0     130.0\n",
      "9         60 2020-12-10     98     124.0     269.0\n",
      "10        60 2020-12-11    103     147.0     329.0\n",
      "11        60 2020-12-12    100     120.0     250.0\n"
     ]
    }
   ],
   "source": [
    "a.drop_duplicates(inplace=True)\n",
    "print(a)\n"
   ]
  },
  {
   "cell_type": "code",
   "execution_count": null,
   "metadata": {
    "collapsed": true
   },
   "outputs": [],
   "source": []
  }
 ],
 "metadata": {
  "kernelspec": {
   "display_name": "Python 3",
   "language": "python",
   "name": "python3"
  },
  "language_info": {
   "codemirror_mode": {
    "name": "ipython",
    "version": 3
   },
   "file_extension": ".py",
   "mimetype": "text/x-python",
   "name": "python",
   "nbconvert_exporter": "python",
   "pygments_lexer": "ipython3",
   "version": "3.6.3"
  }
 },
 "nbformat": 4,
 "nbformat_minor": 2
}
