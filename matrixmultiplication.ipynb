{
 "cells": [
  {
   "cell_type": "code",
   "execution_count": 9,
   "metadata": {},
   "outputs": [
    {
     "name": "stdout",
     "output_type": "stream",
     "text": [
      "[[1 2 3]\n",
      " [4 5 6]\n",
      " [7 8 9]]\n",
      "6\n",
      "[[5 6]\n",
      " [8 9]]\n"
     ]
    }
   ],
   "source": [
    "import numpy as np\n",
    "a=np.array([[1,2,3],[4,5,6],[7,8,9]])\n",
    "print(a)\n",
    "print(a[1,2])\n",
    "print(a[1:,1:])\n"
   ]
  },
  {
   "cell_type": "code",
   "execution_count": 2,
   "metadata": {},
   "outputs": [
    {
     "name": "stdout",
     "output_type": "stream",
     "text": [
      "[[1 2 3]\n",
      " [4 5 6]\n",
      " [7 8 9]]\n"
     ]
    }
   ],
   "source": [
    "b=np.array([1,2,3,4,5,6,7,8,9])\n",
    "c=b.reshape(3,3)\n",
    "print(c)"
   ]
  },
  {
   "cell_type": "code",
   "execution_count": 3,
   "metadata": {},
   "outputs": [
    {
     "name": "stdout",
     "output_type": "stream",
     "text": [
      "[[0 1 2]\n",
      " [3 4 5]\n",
      " [6 7 8]]\n"
     ]
    }
   ],
   "source": [
    "d=np.arange(9).reshape(3,3)\n",
    "print(d)"
   ]
  },
  {
   "cell_type": "code",
   "execution_count": 5,
   "metadata": {},
   "outputs": [
    {
     "name": "stdout",
     "output_type": "stream",
     "text": [
      "[[0 0 0]\n",
      " [0 0 0]\n",
      " [0 0 0]]\n"
     ]
    }
   ],
   "source": [
    "e=np.zeros((3,3),dtype='i')\n",
    "print(e)"
   ]
  },
  {
   "cell_type": "code",
   "execution_count": 6,
   "metadata": {},
   "outputs": [
    {
     "name": "stdout",
     "output_type": "stream",
     "text": [
      "[[1 1 1]\n",
      " [1 1 1]\n",
      " [1 1 1]]\n"
     ]
    }
   ],
   "source": [
    "e=np.ones((3,3),dtype='i')\n",
    "print(e)"
   ]
  },
  {
   "cell_type": "code",
   "execution_count": 14,
   "metadata": {},
   "outputs": [
    {
     "name": "stdout",
     "output_type": "stream",
     "text": [
      "first matrix:\n",
      " [[1 2]\n",
      " [3 4]]\n",
      "second matrix:\n",
      " [[5 1]\n",
      " [2 4]]\n",
      "Matrix multiplication:\n",
      " [[ 9  9]\n",
      " [23 19]]\n",
      "Transpose :\n",
      " [[ 9 23]\n",
      " [ 9 19]]\n"
     ]
    }
   ],
   "source": [
    "#program to perform matrixmultiplication\n",
    "import numpy as np\n",
    "a=np.array([[1,2],[3,4]])\n",
    "print(\"first matrix:\\n\",a)\n",
    "\n",
    "b=np.array([[5,1],[2,4]])\n",
    "print(\"second matrix:\\n\",b)\n",
    "\n",
    "c=np.dot(a,b)\n",
    "\n",
    "print(\"Matrix multiplication:\\n\",c)\n",
    "\n",
    "print(\"Transpose :\\n\",c.transpose())"
   ]
  },
  {
   "cell_type": "code",
   "execution_count": 16,
   "metadata": {},
   "outputs": [
    {
     "name": "stdout",
     "output_type": "stream",
     "text": [
      "\n",
      " v= [[-0.21483724  0.88723069  0.40824829]\n",
      " [-0.52058739  0.24964395 -0.81649658]\n",
      " [-0.82633754 -0.38794278  0.40824829]]\n",
      "\n",
      " s= [1.68481034e+01 1.06836951e+00 4.41842475e-16]\n",
      "\n",
      " t= [[-0.47967118 -0.57236779 -0.66506441]\n",
      " [-0.77669099 -0.07568647  0.62531805]\n",
      " [-0.40824829  0.81649658 -0.40824829]]\n",
      "\n",
      " [[1. 2. 3.]\n",
      " [4. 5. 6.]\n",
      " [7. 8. 9.]]\n"
     ]
    }
   ],
   "source": [
    "#program to perform svd \n",
    "import numpy as np\n",
    "from scipy.linalg import svd\n",
    "a=np.array([[1,2,3],[4,5,6],[7,8,9]])\n",
    "v,s,t=svd(a) #to find svd\n",
    "print(\"\\n v=\",v)\n",
    "print(\"\\n s=\",s)\n",
    "print(\"\\n t=\",t)\n",
    "\n",
    "e=(v @ np.diag(s) @t) #to get old matrix\n",
    "print(\"\\n\",e)"
   ]
  },
  {
   "cell_type": "code",
   "execution_count": null,
   "metadata": {
    "collapsed": true
   },
   "outputs": [],
   "source": []
  }
 ],
 "metadata": {
  "kernelspec": {
   "display_name": "Python 3",
   "language": "python",
   "name": "python3"
  },
  "language_info": {
   "codemirror_mode": {
    "name": "ipython",
    "version": 3
   },
   "file_extension": ".py",
   "mimetype": "text/x-python",
   "name": "python",
   "nbconvert_exporter": "python",
   "pygments_lexer": "ipython3",
   "version": "3.6.3"
  }
 },
 "nbformat": 4,
 "nbformat_minor": 2
}
