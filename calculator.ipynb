{
 "cells": [
  {
   "cell_type": "code",
   "execution_count": 1,
   "metadata": {},
   "outputs": [
    {
     "name": "stdout",
     "output_type": "stream",
     "text": [
      "enter the number1:2\n",
      "enter the number2:0\n",
      "\n",
      "1.add\n",
      "2.sub\n",
      "3.mul\n",
      "4.div\n",
      "select your choice:4\n",
      "division is not possible\n",
      "\n",
      "1.add\n",
      "2.sub\n",
      "3.mul\n",
      "4.div\n",
      "select your choice:5\n",
      "invalid\n"
     ]
    }
   ],
   "source": [
    "n1=int(input('enter the number1:'))\n",
    "n2=int(input('enter the number2:'))\n",
    "while(1):\n",
    "    \n",
    "    print(\"\\n1.add\\n2.sub\\n3.mul\\n4.div\")\n",
    "    ch=int(input('select your choice:'))\n",
    "\n",
    "    if(ch==1):\n",
    "        print('sum=',n1+n2)\n",
    "    elif(ch==2):\n",
    "        print('difference=',n1-n2)\n",
    "    elif (ch==3):\n",
    "        print('product=',n1*n2)\n",
    "    elif(ch==4):\n",
    "        if(n2==0):\n",
    "            print('division is not possible')\n",
    "        else:\n",
    "            print('division=',n1/n2)\n",
    "    else:\n",
    "        print('invalid')\n",
    "        break;\n"
   ]
  },
  {
   "cell_type": "code",
   "execution_count": null,
   "metadata": {
    "collapsed": true
   },
   "outputs": [],
   "source": []
  }
 ],
 "metadata": {
  "kernelspec": {
   "display_name": "Python 3",
   "language": "python",
   "name": "python3"
  },
  "language_info": {
   "codemirror_mode": {
    "name": "ipython",
    "version": 3
   },
   "file_extension": ".py",
   "mimetype": "text/x-python",
   "name": "python",
   "nbconvert_exporter": "python",
   "pygments_lexer": "ipython3",
   "version": "3.6.3"
  }
 },
 "nbformat": 4,
 "nbformat_minor": 2
}
