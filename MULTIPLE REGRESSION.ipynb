{
 "cells": [
  {
   "cell_type": "code",
   "execution_count": 1,
   "metadata": {},
   "outputs": [
    {
     "name": "stdout",
     "output_type": "stream",
     "text": [
      "\n",
      "__prediction__\n",
      " [ 1.12886370e+00  1.65609770e+00  2.38453029e-02  2.19277865e+00\n",
      "  1.50930332e-01  1.19027911e+00  8.80968527e-02  1.61641232e+00\n",
      "  1.88002932e+00  1.35421339e+00  1.47988035e+00  1.32822915e+00\n",
      "  1.35421339e+00  1.65467963e+00  1.29137991e+00 -4.98531886e-02\n",
      "  1.21626335e+00  1.02918098e+00  2.52031128e-01  1.37229180e-01\n",
      "  9.78630580e-01  8.52963621e-01  6.97209116e-04  1.43983611e-02\n",
      "  1.42932995e+00 -2.75202874e-01 -2.52870248e-02  1.36649647e+00\n",
      "  8.42098609e-01  1.50930332e-01  1.39106263e+00  7.02730498e-01\n",
      "  2.38329976e-01  1.22854643e+00  1.57956307e+00  7.40997813e-01\n",
      "  4.25412345e-01  1.34193031e+00]\n",
      "\n",
      "__acual__\n",
      " [2 1 0 2 0 2 0 1 1 1 2 1 1 1 1 0 1 1 0 0 2 1 0 0 2 0 0 1 1 0 2 1 0 2 2 1 0\n",
      " 1]\n",
      "\n",
      "Mean squared error\n",
      "0.20117872005971507\n",
      "\n",
      "r2 score\n",
      "0.645729180772892\n"
     ]
    }
   ],
   "source": [
    "#multiple regression program\n",
    "from sklearn.datasets import load_iris\n",
    "import numpy as np\n",
    "x,y=load_iris(return_X_y=True)#choosing all features\n",
    "x=x[:,:2]#choosing only 2 features from set\n",
    "# print(x)\n",
    "from sklearn.model_selection import train_test_split\n",
    "x_train,x_test,y_train,y_test=train_test_split(x,y,test_size=0.25,random_state=0)\n",
    "\n",
    "from sklearn.linear_model import LinearRegression\n",
    "c=LinearRegression()\n",
    "c.fit(x_train,y_train)\n",
    "p=c.predict(x_test)\n",
    "print(\"\\n__prediction__\\n\",p)\n",
    "print(\"\\n__acual__\\n\",y_test)\n",
    "\n",
    "\n",
    "from sklearn.metrics import mean_squared_error,r2_score\n",
    "a=mean_squared_error(y_test,p)\n",
    "print(\"\\nMean squared error\")\n",
    "print(a)\n",
    "b=r2_score(y_test,p)\n",
    "print(\"\\nr2 score\")\n",
    "print(b)"
   ]
  },
  {
   "cell_type": "code",
   "execution_count": null,
   "metadata": {
    "collapsed": true
   },
   "outputs": [],
   "source": []
  }
 ],
 "metadata": {
  "kernelspec": {
   "display_name": "Python 3",
   "language": "python",
   "name": "python3"
  },
  "language_info": {
   "codemirror_mode": {
    "name": "ipython",
    "version": 3
   },
   "file_extension": ".py",
   "mimetype": "text/x-python",
   "name": "python",
   "nbconvert_exporter": "python",
   "pygments_lexer": "ipython3",
   "version": "3.6.3"
  }
 },
 "nbformat": 4,
 "nbformat_minor": 2
}
